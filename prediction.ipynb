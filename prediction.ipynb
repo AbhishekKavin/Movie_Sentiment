{
 "cells": [
  {
   "cell_type": "code",
   "execution_count": 1,
   "id": "aa9efaff",
   "metadata": {},
   "outputs": [
    {
     "name": "stdout",
     "output_type": "stream",
     "text": [
      "WARNING:tensorflow:From c:\\Users\\Abhis\\OneDrive\\Desktop\\Projects\\Mini Projects\\venv\\Lib\\site-packages\\keras\\src\\losses.py:2976: The name tf.losses.sparse_softmax_cross_entropy is deprecated. Please use tf.compat.v1.losses.sparse_softmax_cross_entropy instead.\n",
      "\n"
     ]
    }
   ],
   "source": [
    "import numpy as np\n",
    "import tensorflow as tf\n",
    "from tensorflow.keras.datasets import imdb\n",
    "from tensorflow.keras.preprocessing import sequence\n",
    "from tensorflow.keras.models import Sequential\n",
    "from tensorflow.keras.layers import Embedding, SimpleRNN, Dense\n",
    "from tensorflow.keras.callbacks import EarlyStopping\n",
    "from tensorflow.keras.models import load_model"
   ]
  },
  {
   "cell_type": "code",
   "execution_count": 2,
   "id": "15500b92",
   "metadata": {},
   "outputs": [],
   "source": [
    "word_index = imdb.get_word_index()\n",
    "reverse_word_index = {value: key for key,value in word_index.items()}"
   ]
  },
  {
   "cell_type": "code",
   "execution_count": 3,
   "id": "418da852",
   "metadata": {},
   "outputs": [
    {
     "name": "stdout",
     "output_type": "stream",
     "text": [
      "WARNING:tensorflow:From c:\\Users\\Abhis\\OneDrive\\Desktop\\Projects\\Mini Projects\\venv\\Lib\\site-packages\\keras\\src\\backend.py:1398: The name tf.executing_eagerly_outside_functions is deprecated. Please use tf.compat.v1.executing_eagerly_outside_functions instead.\n",
      "\n"
     ]
    }
   ],
   "source": [
    "model = load_model('simple_rnn_imdb.h5')"
   ]
  },
  {
   "cell_type": "code",
   "execution_count": 4,
   "id": "57eed3c4",
   "metadata": {},
   "outputs": [
    {
     "name": "stdout",
     "output_type": "stream",
     "text": [
      "Model: \"sequential_1\"\n",
      "_________________________________________________________________\n",
      " Layer (type)                Output Shape              Param #   \n",
      "=================================================================\n",
      " embedding_1 (Embedding)     (None, 500, 128)          1280000   \n",
      "                                                                 \n",
      " simple_rnn_1 (SimpleRNN)    (None, 128)               32896     \n",
      "                                                                 \n",
      " dense_1 (Dense)             (None, 1)                 129       \n",
      "                                                                 \n",
      "=================================================================\n",
      "Total params: 1313025 (5.01 MB)\n",
      "Trainable params: 1313025 (5.01 MB)\n",
      "Non-trainable params: 0 (0.00 Byte)\n",
      "_________________________________________________________________\n"
     ]
    }
   ],
   "source": [
    "model.summary()"
   ]
  },
  {
   "cell_type": "code",
   "execution_count": 5,
   "id": "a7248143",
   "metadata": {},
   "outputs": [
    {
     "data": {
      "text/plain": [
       "[array([[-0.0487518 ,  0.08452493, -0.00805371, ..., -0.00266049,\n",
       "          0.06887243,  0.01050726],\n",
       "        [ 0.06399976,  0.0584782 ,  0.02707775, ...,  0.0231755 ,\n",
       "          0.03114212, -0.03400253],\n",
       "        [ 0.00503952,  0.02237938,  0.03934927, ...,  0.01720839,\n",
       "          0.05649618, -0.07019106],\n",
       "        ...,\n",
       "        [ 0.04319883,  0.01589633, -0.00185651, ...,  0.01849979,\n",
       "          0.02787652,  0.03201051],\n",
       "        [-0.07813648, -0.04148697,  0.02184766, ..., -0.00842294,\n",
       "          0.02881398,  0.05022443],\n",
       "        [-0.05435271,  0.04483316, -0.03289086, ..., -0.07590356,\n",
       "         -0.07430306,  0.03460122]], dtype=float32),\n",
       " array([[ 0.03435323,  0.01469783,  0.04767703, ..., -0.04259192,\n",
       "         -0.11365243,  0.05429691],\n",
       "        [ 0.0801449 , -0.03172416, -0.07686428, ...,  0.01194129,\n",
       "         -0.04859613,  0.14138687],\n",
       "        [-0.07064288,  0.10581309, -0.04084963, ..., -0.02934679,\n",
       "         -0.06071189, -0.05204745],\n",
       "        ...,\n",
       "        [ 0.0879627 ,  0.13360138,  0.07552458, ...,  0.18801123,\n",
       "          0.09351629,  0.02502754],\n",
       "        [-0.01072356, -0.07737832,  0.04603557, ...,  0.05774645,\n",
       "          0.04402829, -0.0657413 ],\n",
       "        [-0.05666813,  0.10458844, -0.17767529, ..., -0.00228999,\n",
       "          0.11436481,  0.14384784]], dtype=float32),\n",
       " array([[ 1.14970896e-02,  7.77538568e-02,  5.79945445e-02, ...,\n",
       "         -1.45454675e-01,  1.00361891e-01,  3.32064740e-02],\n",
       "        [-9.69781205e-02,  1.64229393e-01,  1.18914865e-01, ...,\n",
       "          2.35152796e-01, -8.27134326e-02,  1.55869341e-02],\n",
       "        [-9.28293839e-02, -3.92703824e-02, -2.44375560e-02, ...,\n",
       "         -3.24189737e-02,  6.88336343e-02,  5.27539067e-02],\n",
       "        ...,\n",
       "        [-9.87503678e-02, -6.69652373e-02, -1.08486954e-02, ...,\n",
       "          1.47758480e-02,  7.25544766e-02, -8.89760777e-02],\n",
       "        [ 3.23682652e-05,  3.31518948e-02, -1.92968566e-02, ...,\n",
       "          4.56871949e-02,  1.47137687e-01, -1.08817458e-01],\n",
       "        [-1.91288665e-02, -1.68079585e-02, -2.89063621e-02, ...,\n",
       "          3.52927260e-02,  2.41218153e-02,  2.70267367e-01]], dtype=float32),\n",
       " array([-0.01436604,  0.00286422, -0.01156109, -0.03501596,  0.02820151,\n",
       "         0.01482738, -0.04108702, -0.0129495 , -0.01981964,  0.00926222,\n",
       "        -0.0197679 , -0.0007262 , -0.0144455 , -0.00631043,  0.02961824,\n",
       "        -0.01326157,  0.02504226, -0.03204384, -0.02318494,  0.0104461 ,\n",
       "         0.02300428,  0.08577909, -0.00155244,  0.01664731, -0.00814567,\n",
       "        -0.00983776, -0.0228258 ,  0.02862122,  0.00351489, -0.0086417 ,\n",
       "        -0.00452881, -0.00399182, -0.0217264 , -0.02099547, -0.02044375,\n",
       "        -0.0079467 , -0.01027501, -0.00321973,  0.02183532, -0.02749204,\n",
       "         0.0120832 , -0.01569032,  0.04091085, -0.03214693,  0.02538648,\n",
       "        -0.02737914, -0.01115179, -0.00947292,  0.02192644, -0.00346796,\n",
       "        -0.0108774 , -0.00091216,  0.01873231,  0.0215786 , -0.00074952,\n",
       "        -0.00407818,  0.00388776,  0.00500351, -0.03014456, -0.00804582,\n",
       "         0.00054156,  0.03542377, -0.00403182, -0.01876228,  0.00821055,\n",
       "        -0.00391963,  0.04542316, -0.0252461 , -0.00798368, -0.01777999,\n",
       "         0.03897031, -0.00515748, -0.00919876, -0.02140274,  0.02165461,\n",
       "        -0.00788125, -0.01210244,  0.03253685, -0.01687784,  0.02293803,\n",
       "        -0.03464429, -0.0079103 , -0.02467215, -0.02166773, -0.00701002,\n",
       "        -0.01641707,  0.00523854, -0.03072412,  0.01444962, -0.03522347,\n",
       "        -0.03612055, -0.02027606, -0.00341837, -0.02602503, -0.00123129,\n",
       "         0.00077361,  0.09801271, -0.01845482,  0.00484073, -0.00835716,\n",
       "         0.02597611, -0.00396229, -0.01800928,  0.01022875, -0.03510968,\n",
       "        -0.03636326,  0.02570206, -0.02516852,  0.00795396, -0.01643925,\n",
       "         0.02003725, -0.01117286, -0.0204863 ,  0.0034279 , -0.01940953,\n",
       "        -0.01043763, -0.01557322,  0.01409227, -0.01191373,  0.02445444,\n",
       "         0.01383143, -0.01923032,  0.03322024, -0.03186736, -0.02387422,\n",
       "        -0.00429347, -0.01603475, -0.02780446], dtype=float32),\n",
       " array([[-0.44888762],\n",
       "        [ 0.10388505],\n",
       "        [-0.17610653],\n",
       "        [ 0.18614975],\n",
       "        [-0.1324228 ],\n",
       "        [ 0.16517366],\n",
       "        [ 0.05890632],\n",
       "        [ 0.15442827],\n",
       "        [ 0.00521446],\n",
       "        [ 0.18243904],\n",
       "        [ 0.13586421],\n",
       "        [-0.05281224],\n",
       "        [ 0.03409642],\n",
       "        [-0.2095102 ],\n",
       "        [-0.25699744],\n",
       "        [-0.24738516],\n",
       "        [-0.06908007],\n",
       "        [-0.11836222],\n",
       "        [-0.13585655],\n",
       "        [-0.14823115],\n",
       "        [-0.01882466],\n",
       "        [ 0.1823734 ],\n",
       "        [ 0.14280969],\n",
       "        [-0.12167751],\n",
       "        [ 0.18347248],\n",
       "        [ 0.19145013],\n",
       "        [ 0.1871419 ],\n",
       "        [ 0.02010175],\n",
       "        [-0.03546158],\n",
       "        [ 0.02725355],\n",
       "        [ 0.14989607],\n",
       "        [ 0.16020396],\n",
       "        [ 0.17470057],\n",
       "        [ 0.05447579],\n",
       "        [-0.0347942 ],\n",
       "        [ 0.05803681],\n",
       "        [-0.06463417],\n",
       "        [ 0.20308685],\n",
       "        [-0.10492295],\n",
       "        [ 0.10042589],\n",
       "        [-0.20353948],\n",
       "        [ 0.07818168],\n",
       "        [ 0.15639065],\n",
       "        [ 0.13208662],\n",
       "        [-0.00293755],\n",
       "        [ 0.20526466],\n",
       "        [ 0.09021968],\n",
       "        [ 0.00348736],\n",
       "        [-0.16720024],\n",
       "        [ 0.1644803 ],\n",
       "        [-0.16506492],\n",
       "        [ 0.01827121],\n",
       "        [ 0.13352959],\n",
       "        [ 0.16069527],\n",
       "        [-0.01729107],\n",
       "        [ 0.12817173],\n",
       "        [ 0.15453504],\n",
       "        [ 0.1705297 ],\n",
       "        [-0.4959943 ],\n",
       "        [ 0.01591863],\n",
       "        [ 0.18915328],\n",
       "        [-0.16818449],\n",
       "        [-0.04292155],\n",
       "        [-0.05630234],\n",
       "        [ 0.06388254],\n",
       "        [ 0.1641282 ],\n",
       "        [-0.08827221],\n",
       "        [-0.17029426],\n",
       "        [-0.1763244 ],\n",
       "        [-0.14913091],\n",
       "        [-0.16830575],\n",
       "        [-0.03470134],\n",
       "        [-0.10728229],\n",
       "        [-0.11827946],\n",
       "        [ 0.05511427],\n",
       "        [ 0.19013217],\n",
       "        [-0.21724975],\n",
       "        [-0.19253783],\n",
       "        [ 0.06339545],\n",
       "        [-0.20465954],\n",
       "        [-0.03220991],\n",
       "        [ 0.08900574],\n",
       "        [ 0.2014678 ],\n",
       "        [ 0.09479834],\n",
       "        [ 0.06056262],\n",
       "        [ 0.14877558],\n",
       "        [ 0.04241355],\n",
       "        [-0.06259841],\n",
       "        [-0.06140987],\n",
       "        [-0.15296018],\n",
       "        [ 0.12149609],\n",
       "        [-0.16394044],\n",
       "        [-0.10796747],\n",
       "        [-0.00964992],\n",
       "        [-0.07234557],\n",
       "        [ 0.17407118],\n",
       "        [ 0.21183167],\n",
       "        [-0.12339332],\n",
       "        [-0.1302206 ],\n",
       "        [ 0.21511911],\n",
       "        [-0.12481524],\n",
       "        [ 0.14487603],\n",
       "        [-0.0107753 ],\n",
       "        [ 0.09188911],\n",
       "        [-0.13863698],\n",
       "        [ 0.02851743],\n",
       "        [-0.15736848],\n",
       "        [-0.14064386],\n",
       "        [ 0.13786107],\n",
       "        [ 0.15209807],\n",
       "        [-0.1403711 ],\n",
       "        [ 0.1472646 ],\n",
       "        [ 0.20610626],\n",
       "        [-0.16040511],\n",
       "        [ 0.16220395],\n",
       "        [ 0.00738486],\n",
       "        [ 0.11081678],\n",
       "        [-0.10602497],\n",
       "        [ 0.15184264],\n",
       "        [-0.03940591],\n",
       "        [ 0.06698944],\n",
       "        [ 0.12678635],\n",
       "        [ 0.0951627 ],\n",
       "        [-0.13481022],\n",
       "        [ 0.0255522 ],\n",
       "        [-0.17640772],\n",
       "        [ 0.05538303],\n",
       "        [ 0.5126487 ]], dtype=float32),\n",
       " array([0.46555647], dtype=float32)]"
      ]
     },
     "execution_count": 5,
     "metadata": {},
     "output_type": "execute_result"
    }
   ],
   "source": [
    "model.get_weights()"
   ]
  },
  {
   "cell_type": "code",
   "execution_count": 6,
   "id": "8ae19d39",
   "metadata": {},
   "outputs": [],
   "source": [
    "def decode_review(text):\n",
    "    return ' '.join([reverse_word_index.get(i-3, '?') for i in text])"
   ]
  },
  {
   "cell_type": "code",
   "execution_count": 7,
   "id": "ea1e31bd",
   "metadata": {},
   "outputs": [],
   "source": [
    "def preprocess_text(text):\n",
    "    words = text.lower().split()\n",
    "    encoded_review = [word_index.get(word, 2) + 3 for word in words]\n",
    "    padded_review = sequence.pad_sequences([encoded_review], maxlen = 500)\n",
    "    return padded_review"
   ]
  },
  {
   "cell_type": "code",
   "execution_count": 8,
   "id": "82c59fb4",
   "metadata": {},
   "outputs": [],
   "source": [
    "def predict_sentiment(text):\n",
    "    preprocess_input = preprocess_text(text)\n",
    "    prediction = model.predict(preprocess_input)\n",
    "\n",
    "    sentiment = \"Positive\" if prediction[0][0] > 0.5 else \"Negative\"\n",
    "    return sentiment,prediction[0][0]"
   ]
  },
  {
   "cell_type": "code",
   "execution_count": 9,
   "id": "8685ea68",
   "metadata": {},
   "outputs": [],
   "source": [
    "rev = \"I was absolutely blown away by Mahavtar Narsimha. Every single character felt perfectly designed, staying true to the original Puranic accounts. The attention to detail, both visually and emotionally, shows deep respect for our ancient history and scriptures.\""
   ]
  },
  {
   "cell_type": "code",
   "execution_count": 10,
   "id": "be9e9859",
   "metadata": {},
   "outputs": [
    {
     "name": "stdout",
     "output_type": "stream",
     "text": [
      "1/1 [==============================] - 0s 186ms/step\n"
     ]
    }
   ],
   "source": [
    "sentiment,score = predict_sentiment(rev)"
   ]
  },
  {
   "cell_type": "code",
   "execution_count": 11,
   "id": "c1ec9e6c",
   "metadata": {},
   "outputs": [
    {
     "name": "stdout",
     "output_type": "stream",
     "text": [
      "Review: I was absolutely blown away by Mahavtar Narsimha. Every single character felt perfectly designed, staying true to the original Puranic accounts. The attention to detail, both visually and emotionally, shows deep respect for our ancient history and scriptures.\n",
      "Sentiment: Positive\n",
      "Score: 0.843131959438324\n"
     ]
    }
   ],
   "source": [
    "print(f\"Review: {rev}\")\n",
    "print(f\"Sentiment: {sentiment}\")\n",
    "print(f\"Score: {score}\")"
   ]
  },
  {
   "cell_type": "code",
   "execution_count": null,
   "id": "6b3db305",
   "metadata": {},
   "outputs": [],
   "source": []
  }
 ],
 "metadata": {
  "kernelspec": {
   "display_name": "Python 3",
   "language": "python",
   "name": "python3"
  },
  "language_info": {
   "codemirror_mode": {
    "name": "ipython",
    "version": 3
   },
   "file_extension": ".py",
   "mimetype": "text/x-python",
   "name": "python",
   "nbconvert_exporter": "python",
   "pygments_lexer": "ipython3",
   "version": "undefined.undefined.undefined"
  }
 },
 "nbformat": 4,
 "nbformat_minor": 5
}
